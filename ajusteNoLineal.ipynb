{
 "cells": [
  {
   "cell_type": "code",
   "execution_count": 2,
   "metadata": {},
   "outputs": [],
   "source": [
    "import matplotlib.pyplot as plt\n",
    "import numpy as np\n",
    "from fit_leastsq import fit_leastsq"
   ]
  },
  {
   "cell_type": "code",
   "execution_count": null,
   "metadata": {},
   "outputs": [],
   "source": [
    "#Cargar los datos\n",
    "x_exp, y_exp = np.loadtxt(fname=\"el nombre del archivo.csv\", delimiter=\",\", unpack=True)"
   ]
  },
  {
   "cell_type": "code",
   "execution_count": 4,
   "metadata": {},
   "outputs": [],
   "source": [
    "#Definir la funcion de ajuste\n",
    "#Esto es solo un ejemplo no me acuerdo en este mometo cual es la funcion.\n",
    "#p0, p1, p2 son los parametros de ajuste. Se pueden agragar mas o quitar.\n",
    "funcF = lambda x, p0, p1, p2: p0 * np.sin(p1 * x) + p2 #Aqui se define la funcion manualmente\n",
    "funcFF = lambda x, p: funcF(x, *p) "
   ]
  },
  {
   "cell_type": "code",
   "execution_count": null,
   "metadata": {},
   "outputs": [],
   "source": [
    "#Realizar el ajuste\n",
    "\n",
    "#parametros iniciales\n",
    "pstart = [0, 1, 2]\n",
    "pfit, perr = fit_leastsq(pstart, x_exp, y_exp, funcFF)\n",
    "\n",
    "#Parametros de ajuste\n",
    "p0, p1, p2 = pfit\n",
    "\n",
    "#Sus errores\n",
    "Dp0, Dp1, Dp2 = perr"
   ]
  },
  {
   "cell_type": "code",
   "execution_count": null,
   "metadata": {},
   "outputs": [],
   "source": [
    "#Imprimir resultados en la consola\n",
    "print(pfit)\n",
    "print(perr)"
   ]
  },
  {
   "cell_type": "code",
   "execution_count": null,
   "metadata": {},
   "outputs": [],
   "source": [
    "#Realizar la grafica\n",
    "\n",
    "#Generar puntos de la curva toerica\n",
    "x_teo = np.linspace(-4, 4, 100)  #Los parametros de esta funcion especifican el numero el intervalo y el numero de datos\n",
    "y_teo = funcFF(x_teo, pfit)\n",
    "\n",
    "#Graficar el ajuste junto con los datos experimentales\n",
    "plt.plot(x_exp, y_exp, '*', label = \"El nombre que quieras\") \n",
    "plt.plot(x_teo, x_teo, '--', label = \"El nombre que quieras\") \n",
    "plt.grid() #Le coloca la grilla\n",
    "plt.legend() #Coloca las leyendas\n",
    "plt.show()\n",
    "plt.savefig(\"El nombre que quieras.png\")"
   ]
  }
 ],
 "metadata": {
  "interpreter": {
   "hash": "0922261909279fec50cb85bd1e8a0cf2f11540cc12bdbf1a08703f85bd9df3f1"
  },
  "kernelspec": {
   "display_name": "Python 3.9.7 64-bit",
   "language": "python",
   "name": "python3"
  },
  "language_info": {
   "codemirror_mode": {
    "name": "ipython",
    "version": 3
   },
   "file_extension": ".py",
   "mimetype": "text/x-python",
   "name": "python",
   "nbconvert_exporter": "python",
   "pygments_lexer": "ipython3",
   "version": "3.9.7"
  },
  "orig_nbformat": 4
 },
 "nbformat": 4,
 "nbformat_minor": 2
}
